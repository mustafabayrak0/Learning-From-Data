{
 "cells": [
  {
   "cell_type": "markdown",
   "id": "ff8b9383",
   "metadata": {},
   "source": [
    "## BLG 454E - Learning From Data\n",
    "-----------\n",
    "### Homework 4\n",
    "### Dimensionality Reduction and Clustering\n",
    "\n",
    "-----------\n",
    "#### Prepared by Res. Asst. Yaren Yılmaz\n",
    "If you have any question, do not hesitate to concact me via **yilmazy20@itu.edu.tr**"
   ]
  },
  {
   "cell_type": "code",
   "execution_count": 1,
   "id": "aff54459",
   "metadata": {},
   "outputs": [],
   "source": [
    "import numpy as np\n",
    "import matplotlib.pyplot as plt\n",
    "from sklearn.datasets import load_iris\n",
    "\n",
    "# Do not import any other libraries. You can add libraries only for visualizations.\n",
    "\n",
    "from kmeans import KMeans"
   ]
  },
  {
   "cell_type": "markdown",
   "id": "683b07b3",
   "metadata": {},
   "source": [
    "## K-Means Clustering\n",
    "* Fill the functions from kmeans.py\n",
    "* Use the below cells to validate your implementations for each function using simple inputs. **Do not change the cells.** These cells are given to make sure you wrote all the functions correctly before creating the K-Means model."
   ]
  },
  {
   "cell_type": "code",
   "execution_count": 2,
   "id": "7a602933",
   "metadata": {},
   "outputs": [],
   "source": [
    "n_clusters = 3"
   ]
  },
  {
   "cell_type": "code",
   "execution_count": 3,
   "id": "2c3b4be7",
   "metadata": {},
   "outputs": [
    {
     "name": "stdout",
     "output_type": "stream",
     "text": [
      "[1.7, 1.3800000000000001, 1.0, 0.5]\n"
     ]
    }
   ],
   "source": [
    "# Validate the function \"mean\"\n",
    "data = np.array([[1.1, 1, 1, 0.5], [4, 3.14, 2, 1], [0, 0, 0, 0]])\n",
    "km = KMeans(data, n_clusters)\n",
    "print(km.mean(data))"
   ]
  },
  {
   "cell_type": "code",
   "execution_count": 4,
   "id": "50c6d5e9",
   "metadata": {},
   "outputs": [
    {
     "name": "stdout",
     "output_type": "stream",
     "text": [
      "[1.687206764645835, 1.309758247413112, 0.816496580927726, 0.408248290463863]\n"
     ]
    }
   ],
   "source": [
    "# Validate the function \"std\"\n",
    "print(km.std())"
   ]
  },
  {
   "cell_type": "code",
   "execution_count": 5,
   "id": "72e5e898",
   "metadata": {},
   "outputs": [
    {
     "name": "stdout",
     "output_type": "stream",
     "text": [
      "[[-0.35561735 -0.29012988  0.          0.        ]\n",
      " [ 1.36319984  1.34375943  1.22474487  1.22474487]\n",
      " [-1.00758249 -1.05362956 -1.22474487 -1.22474487]]\n"
     ]
    }
   ],
   "source": [
    "# Validate the function \"standard_scaler\"\n",
    "print(km.standard_scaler())"
   ]
  },
  {
   "cell_type": "code",
   "execution_count": 6,
   "id": "1ff13859",
   "metadata": {},
   "outputs": [
    {
     "name": "stdout",
     "output_type": "stream",
     "text": [
      "3.7735394525564456\n"
     ]
    }
   ],
   "source": [
    "# Validate the function \"euclidean_distance\"\n",
    "print(km.euclidean_distance(data[0], data[1]))"
   ]
  },
  {
   "cell_type": "code",
   "execution_count": 7,
   "id": "bfbf129c",
   "metadata": {},
   "outputs": [
    {
     "name": "stdout",
     "output_type": "stream",
     "text": [
      "0\n"
     ]
    }
   ],
   "source": [
    "# Validate the function \"get_closest_centroid\"\n",
    "km.centroids = [[1, 1, 1, 1],[2, 2, 2, 2]]\n",
    "print(km.get_closest_centroid(data[0]))"
   ]
  },
  {
   "cell_type": "code",
   "execution_count": 8,
   "id": "2a2e13b3",
   "metadata": {},
   "outputs": [
    {
     "name": "stdout",
     "output_type": "stream",
     "text": [
      "{0: [[1.1, 1, 1, 1.2], [0, 0, 0, 0]], 1: [[4, 2, 2, 1.5]], 2: []}\n"
     ]
    }
   ],
   "source": [
    "# Validate the function \"update_clusters\"\n",
    "km.X = [[1.1, 1, 1, 1.2], [4, 2, 2, 1.5], [0, 0, 0, 0]]\n",
    "km.centroids = [[1, 1, 1, 1], [2, 2, 2, 2], [6, 6, 6, 6]]\n",
    "print(km.update_clusters())"
   ]
  },
  {
   "cell_type": "code",
   "execution_count": 9,
   "id": "429aa164",
   "metadata": {},
   "outputs": [
    {
     "name": "stdout",
     "output_type": "stream",
     "text": [
      "[[0.55, 0.5, 0.5, 0.6], [4.0, 2.0, 2.0, 1.5], [1.1, 1, 1, 1.2]]\n"
     ]
    }
   ],
   "source": [
    "km.update_centroids(km.update_clusters())\n",
    "print(km.centroids)"
   ]
  },
  {
   "cell_type": "code",
   "execution_count": 10,
   "id": "298953f6",
   "metadata": {},
   "outputs": [
    {
     "name": "stdout",
     "output_type": "stream",
     "text": [
      "True\n",
      "False\n"
     ]
    }
   ],
   "source": [
    "c1 = {0: [[1.1, 1], [0, 0]],\n",
    "                    1: [[4, 2]]}\n",
    "c2 = {0: [[1.1, 1], [0, 0]],\n",
    "                        1: [[4, 2]]}\n",
    "print(km.converged(c1, c2))\n",
    "\n",
    "c1 = {0: [[1.1, 1], [0, 2]],\n",
    "                    1: [[6, 7]]}\n",
    "c2 = {0: [[1.1, 1], [0, 0]],\n",
    "                        1: [[4, 2]]}\n",
    "print(km.converged(c1, c2))"
   ]
  },
  {
   "cell_type": "markdown",
   "id": "c5126454",
   "metadata": {},
   "source": [
    "## Dimensionality Reduction using PCA\n",
    "* **TODO**: Fill the below function pca.\n",
    "* Do not use libraries othere than numpy.\n",
    "* Use n_components = 2."
   ]
  },
  {
   "cell_type": "code",
   "execution_count": 11,
   "id": "007b4e22",
   "metadata": {},
   "outputs": [],
   "source": [
    "def pca(X, n_components):\n",
    "    \"\"\"\n",
    "    Perform Principal Component Analysis (PCA) on the given data.\n",
    "\n",
    "    :param X: Input data matrix of shape (n_samples, n_features)\n",
    "    :param n_components: Number of principal components to keep\n",
    "    :return: Transformed data matrix of shape (n_samples, n_components)\n",
    "    \"\"\"\n",
    "    \n",
    "    # Calculate the mean of each column\n",
    "    means = np.mean(X, axis=0)\n",
    "\n",
    "    # Center the data by subtracting column means\n",
    "    centered_data = X - means\n",
    "\n",
    "    # Calculate covariance matrix\n",
    "    covariance_matrix = np.cov(centered_data.T)\n",
    "\n",
    "    # Eigen decomposition\n",
    "    eigenvalues, eigenvectors = np.linalg.eig(covariance_matrix)\n",
    "\n",
    "    # Sort eigenvalues\n",
    "    idx = np.argsort(eigenvalues)[::-1]\n",
    "    eigenvalues = eigenvalues[idx]\n",
    "    eigenvectors = eigenvectors[:, idx]\n",
    "\n",
    "    # Select the first n eigenvectors\n",
    "    selected_eigenvectors = eigenvectors[:, :n_components]\n",
    "\n",
    "    # Transform the data using the selected eigenvectors\n",
    "    transformed_data = centered_data @ selected_eigenvectors\n",
    "\n",
    "    return transformed_data\n"
   ]
  },
  {
   "cell_type": "markdown",
   "id": "460d764f",
   "metadata": {},
   "source": [
    "### Fit K-Means Clustering\n",
    "* When you are sure about your functions, fill the \"fit\" function from kmeans.py and run the K-Means Clustering.\n",
    "* Run the model with different *k* values.\n",
    "    * *k* = 3, 5, 7, 9\n",
    "* Save the results (clusters, centroids)"
   ]
  },
  {
   "cell_type": "markdown",
   "id": "8566dfbe",
   "metadata": {},
   "source": [
    "* You have Iris dataset that contains measurements of sepal length, sepal width, petal length, petal width.\n"
   ]
  },
  {
   "cell_type": "code",
   "execution_count": 12,
   "id": "5a52857b",
   "metadata": {},
   "outputs": [],
   "source": [
    "# Load the dataset\n",
    "iris = load_iris()\n",
    "X = iris.data"
   ]
  },
  {
   "cell_type": "code",
   "execution_count": 13,
   "id": "ad6d4e11",
   "metadata": {},
   "outputs": [],
   "source": [
    "X = pca(X, 2)"
   ]
  },
  {
   "cell_type": "code",
   "execution_count": 14,
   "id": "314ff3d8",
   "metadata": {},
   "outputs": [
    {
     "name": "stdout",
     "output_type": "stream",
     "text": [
      "Converged in 6 steps\n"
     ]
    }
   ],
   "source": [
    "km_3 = KMeans(X, 3)\n",
    "clusters_3, centroids_3, wcss_3 = km_3.fit()"
   ]
  },
  {
   "cell_type": "code",
   "execution_count": 15,
   "id": "19ecd22c",
   "metadata": {},
   "outputs": [
    {
     "name": "stdout",
     "output_type": "stream",
     "text": [
      "Converged in 10 steps\n"
     ]
    }
   ],
   "source": [
    "km_5 = KMeans(X, 5)\n",
    "clusters_5, centroids_5, wcss_5 = km_5.fit()"
   ]
  },
  {
   "cell_type": "code",
   "execution_count": 16,
   "id": "618e41ca",
   "metadata": {},
   "outputs": [
    {
     "name": "stdout",
     "output_type": "stream",
     "text": [
      "Converged in 8 steps\n"
     ]
    }
   ],
   "source": [
    "km_7 = KMeans(X, 7)\n",
    "clusters_7, centroids_7, wcss_7 = km_7.fit()"
   ]
  },
  {
   "cell_type": "code",
   "execution_count": 17,
   "id": "44506b22",
   "metadata": {},
   "outputs": [
    {
     "name": "stdout",
     "output_type": "stream",
     "text": [
      "Converged in 6 steps\n"
     ]
    }
   ],
   "source": [
    "km_9 = KMeans(X, 9)\n",
    "clusters_9, centroids_9, wcss_9 = km_9.fit()"
   ]
  },
  {
   "cell_type": "code",
   "execution_count": 18,
   "id": "4d1e51a7",
   "metadata": {},
   "outputs": [
    {
     "name": "stdout",
     "output_type": "stream",
     "text": [
      "Converged in 8 steps\n"
     ]
    }
   ],
   "source": [
    "km_11 = KMeans(X, 11)\n",
    "clusters_11, centroids_11, wcss_11 = km_11.fit()"
   ]
  },
  {
   "cell_type": "code",
   "execution_count": 19,
   "id": "21f1200d",
   "metadata": {},
   "outputs": [
    {
     "name": "stdout",
     "output_type": "stream",
     "text": [
      "Converged in 9 steps\n"
     ]
    }
   ],
   "source": [
    "km_13 = KMeans(X, 13)\n",
    "clusters_13, centroids_13, wcss_13 = km_13.fit()"
   ]
  },
  {
   "attachments": {
    "scatter_plot.png": {
     "image/png": "[encoded data removed]"
    }
   },
   "cell_type": "markdown",
   "id": "f923a654",
   "metadata": {},
   "source": [
    "## Visualization\n",
    "* **TODO**: Plot the clusters for each cluster where *k*= 3, 5, 7, 9, 11, 13.\n",
    "* You can check the example plot.\n",
    "![scatter_plot.png](attachment:scatter_plot.png)"
   ]
  },
  {
   "cell_type": "code",
   "execution_count": 20,
   "id": "ec9e63a0",
   "metadata": {},
   "outputs": [],
   "source": [
    "def print_clusters(clusters, centroids):\n",
    "    \"\"\"\n",
    "    Plot the data points according to their clusters.\n",
    "    The data points within the same clusters should have the same color. \n",
    "    Otherwise they should have different colors.\n",
    "    Don't forget to mark the cluster centroids\n",
    "    \n",
    "    :params: clusters\n",
    "    :params: centroids\n",
    "    \"\"\"\n",
    "    # Colors array\n",
    "    colors = ['blue', 'green', 'gray', 'yellow', 'black','brown','purple','orange','pink']\n",
    "    # For each cluster\n",
    "    for cluster_index in clusters:\n",
    "        # For each point in cluster\n",
    "        for point_index in clusters[cluster_index]:\n",
    "            # Plot point with the color of its cluster\n",
    "            plt.scatter(*point_index, color=colors[cluster_index])\n",
    "    # Plot centroids with black\n",
    "    for centroid in centroids:\n",
    "        plt.scatter(*centroid, color='red', marker='x')\n",
    "    plt.show()\n"
   ]
  },
  {
   "cell_type": "code",
   "execution_count": 21,
   "id": "5f447f0f",
   "metadata": {},
   "outputs": [
    {
     "data": {
      "image/png": "[encoded data removed]",
      "text/plain": [
       "<Figure size 432x288 with 1 Axes>"
      ]
     },
     "metadata": {
      "needs_background": "light"
     },
     "output_type": "display_data"
    }
   ],
   "source": [
    "print_clusters(clusters_3, centroids_3)"
   ]
  },
  {
   "cell_type": "code",
   "execution_count": 22,
   "id": "36127a1f",
   "metadata": {},
   "outputs": [
    {
     "data": {
      "image/png": "[encoded data removed]",
      "text/plain": [
       "<Figure size 432x288 with 1 Axes>"
      ]
     },
     "metadata": {
      "needs_background": "light"
     },
     "output_type": "display_data"
    }
   ],
   "source": [
    "print_clusters(clusters_5, centroids_5)"
   ]
  },
  {
   "cell_type": "code",
   "execution_count": 23,
   "id": "43a82b34",
   "metadata": {},
   "outputs": [
    {
     "data": {
      "image/png": "[encoded data removed]",
      "text/plain": [
       "<Figure size 432x288 with 1 Axes>"
      ]
     },
     "metadata": {
      "needs_background": "light"
     },
     "output_type": "display_data"
    }
   ],
   "source": [
    "print_clusters(clusters_7, centroids_7)"
   ]
  },
  {
   "cell_type": "code",
   "execution_count": 24,
   "id": "49e544ba",
   "metadata": {},
   "outputs": [
    {
     "data": {
      "image/png": "[encoded data removed]",
      "text/plain": [
       "<Figure size 432x288 with 1 Axes>"
      ]
     },
     "metadata": {
      "needs_background": "light"
     },
     "output_type": "display_data"
    }
   ],
   "source": [
    "print_clusters(clusters_9, centroids_9)"
   ]
  },
  {
   "cell_type": "markdown",
   "id": "9decb8b8",
   "metadata": {},
   "source": [
    "## WCSS\n",
    "* Obtain Within-Cluster Sum of Squares (WCSS) with different *k* values.\n",
    "* **TODO**: Plot the results.\n",
    "* **TODO**: Explain why WCSS can be used. What does the result mean to us? How can we decide the best *k* value. Interpret the plot. Write your comments."
   ]
  },
  {
   "cell_type": "code",
   "execution_count": 25,
   "id": "ecf9efa3",
   "metadata": {
    "collapsed": true
   },
   "outputs": [
    {
     "name": "stdout",
     "output_type": "stream",
     "text": [
      "Converged in 1 steps\n",
      "Converged in 13 steps\n",
      "Converged in 10 steps\n",
      "Converged in 7 steps\n",
      "Converged in 10 steps\n",
      "Converged in 9 steps\n",
      "Converged in 13 steps\n",
      "Converged in 5 steps\n",
      "Converged in 8 steps\n",
      "Converged in 10 steps\n",
      "Converged in 9 steps\n",
      "Converged in 9 steps\n",
      "Converged in 8 steps\n",
      "Converged in 9 steps\n",
      "Converged in 5 steps\n",
      "Converged in 5 steps\n",
      "Converged in 6 steps\n",
      "Converged in 11 steps\n",
      "Converged in 6 steps\n",
      "Converged in 8 steps\n",
      "Converged in 12 steps\n",
      "Converged in 8 steps\n",
      "Converged in 7 steps\n",
      "Converged in 7 steps\n",
      "Converged in 6 steps\n",
      "Converged in 7 steps\n",
      "Converged in 7 steps\n",
      "Converged in 15 steps\n",
      "Converged in 10 steps\n"
     ]
    }
   ],
   "source": [
    "wcss_values = []\n",
    "# Define k values\n",
    "k_values = range(1, 30)\n",
    "# find wcss for each k value, and append them to the list\n",
    "for k in k_values:\n",
    "    kmeans = KMeans(X, k)\n",
    "    _, _, wcss = kmeans.fit()\n",
    "    wcss_values.append(wcss)"
   ]
  },
  {
   "cell_type": "code",
   "execution_count": 26,
   "id": "514c4d42",
   "metadata": {},
   "outputs": [
    {
     "data": {
      "image/png": "[encoded data removed]",
      "text/plain": [
       "<Figure size 432x288 with 1 Axes>"
      ]
     },
     "metadata": {
      "needs_background": "light"
     },
     "output_type": "display_data"
    }
   ],
   "source": [
    "# Plotting the results\n",
    "plt.plot(k_values, wcss_values, 'o-')\n",
    "plt.title('WCSS values for different number of clusters')\n",
    "plt.xlabel('Number of clusters (k)')\n",
    "plt.ylabel('WCSS')\n",
    "plt.show()"
   ]
  },
  {
   "cell_type": "markdown",
   "id": "0c7bef4b",
   "metadata": {},
   "source": [
    "TODO.Your comments HERE."
   ]
  },
  {
   "cell_type": "markdown",
   "id": "1c2cbc37",
   "metadata": {},
   "source": [
    "WCSS is the sum of the squared distance between each member of a cluster and its centroid. To decide the best k value, there is a technique called \"Elbow Method\". In the elbow method, we define a range for k values, and then run k-means clustering algorithm for these k values. For each k value, we calculate WCSS and then plot these values on a graph. The point where the curve bends significantly is considered as the best(optimal) k value. After this point, adding more clusters doesn't significantly improve the compactness of the solution. <br>\n",
    "\n",
    "When I interpret the plot, I see that the WCSS drops significantly up to around k=4 or k=5.After this point, the decrease in WCSS is much slower,indicating that additional clusters are not providing as much distinct information. Therefore, according to the Elbow Method, k=4 or k=5 might be the optimal number of clusters for this data."
   ]
  }
 ],
 "metadata": {
  "kernelspec": {
   "display_name": "Python 3 (ipykernel)",
   "language": "python",
   "name": "python3"
  },
  "language_info": {
   "codemirror_mode": {
    "name": "ipython",
    "version": 3
   },
   "file_extension": ".py",
   "mimetype": "text/x-python",
   "name": "python",
   "nbconvert_exporter": "python",
   "pygments_lexer": "ipython3",
   "version": "3.9.12"
  }
 },
 "nbformat": 4,
 "nbformat_minor": 5
}